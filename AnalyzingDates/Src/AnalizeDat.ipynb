{
 "cells": [
  {
   "metadata": {
    "ExecuteTime": {
     "end_time": "2024-05-02T16:01:53.153730Z",
     "start_time": "2024-05-02T16:01:53.150457Z"
    }
   },
   "cell_type": "code",
   "source": [
    "import pandas as pd\n",
    "import numpy as np"
   ],
   "id": "edd2214eac304ea9",
   "outputs": [],
   "execution_count": 163
  },
  {
   "cell_type": "code",
   "id": "initial_id",
   "metadata": {
    "collapsed": true,
    "ExecuteTime": {
     "end_time": "2024-05-02T16:01:53.166795Z",
     "start_time": "2024-05-02T16:01:53.156737Z"
    }
   },
   "source": [
    "dados = pd.read_csv(\"Dados.csv\", header=4)\n",
    "\n",
    "filter = dados[dados['Country Code'] == \"BRA\"]\n",
    "\n",
    "filterYears = filter.loc[:, '2000':'2022']\n",
    "\n",
    "mediaOfBrazil = np.average(filterYears)\n",
    "medianaOfBrazil = np.median(filterYears)\n",
    "desvio = filterYears.stack().std()"
   ],
   "outputs": [],
   "execution_count": 164
  },
  {
   "metadata": {
    "ExecuteTime": {
     "end_time": "2024-05-02T16:01:53.173565Z",
     "start_time": "2024-05-02T16:01:53.168803Z"
    }
   },
   "cell_type": "code",
   "source": [
    "print(f\"Dados: {filter.loc[:,'Indicator Name']}\")\n",
    "print(f\"País: {filter['Country Name'].iloc[0]}\")\n",
    "print(f\"Média: {mediaOfBrazil}\")\n",
    "print(f\"Mediana: {medianaOfBrazil}\")\n",
    "print(f\"Desvio Padrão: {desvio}\")\n",
    "print(f\"\\nCode by Jônatas Trindade\")"
   ],
   "id": "7723ade332e0a739",
   "outputs": [
    {
     "name": "stdout",
     "output_type": "stream",
     "text": [
      "Dados: 29    Population ages 65 and above, male (% of male ...\n",
      "Name: Indicator Name, dtype: object\n",
      "País: Brazil\n",
      "Média: 6.4223957900081725\n",
      "Mediana: 6.21362870587582\n",
      "Desvio Padrão: 1.1373902603916095\n",
      "\n",
      "Code by Jônatas Trindade\n"
     ]
    }
   ],
   "execution_count": 165
  }
 ],
 "metadata": {
  "kernelspec": {
   "display_name": "Python 3",
   "language": "python",
   "name": "python3"
  },
  "language_info": {
   "codemirror_mode": {
    "name": "ipython",
    "version": 2
   },
   "file_extension": ".py",
   "mimetype": "text/x-python",
   "name": "python",
   "nbconvert_exporter": "python",
   "pygments_lexer": "ipython2",
   "version": "2.7.6"
  }
 },
 "nbformat": 4,
 "nbformat_minor": 5
}
