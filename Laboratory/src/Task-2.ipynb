{
 "cells": [
  {
   "cell_type": "code",
   "id": "initial_id",
   "metadata": {
    "collapsed": true,
    "ExecuteTime": {
     "end_time": "2024-05-02T17:10:59.881241Z",
     "start_time": "2024-05-02T17:10:59.877455Z"
    }
   },
   "source": [
    "import pandas as pd\n",
    "import numpy as np"
   ],
   "outputs": [],
   "execution_count": 21
  },
  {
   "metadata": {
    "ExecuteTime": {
     "end_time": "2024-05-02T17:10:59.992873Z",
     "start_time": "2024-05-02T17:10:59.883309Z"
    }
   },
   "cell_type": "code",
   "source": [
    "datas = pd.read_csv(\"cars.csv\")\n",
    "\n",
    "carsByPrice = datas.loc[:, 'price_usd']\n",
    "\n",
    "mediaCars = np.average(carsByPrice)\n",
    "medianaCars = np.median(carsByPrice)"
   ],
   "id": "31fb8e5e7d67658d",
   "outputs": [],
   "execution_count": 22
  },
  {
   "metadata": {
    "ExecuteTime": {
     "end_time": "2024-05-02T17:10:59.997540Z",
     "start_time": "2024-05-02T17:10:59.993823Z"
    }
   },
   "cell_type": "code",
   "source": [
    "print(\"Dados calculados\")\n",
    "print(f\"Media: {mediaCars}\")\n",
    "print(f\"Mediana: {medianaCars}\")\n",
    "print(\"Code by Jônatas Trindade\")"
   ],
   "id": "d3db2c300d42a161",
   "outputs": [
    {
     "name": "stdout",
     "output_type": "stream",
     "text": [
      "Dados calculados\n",
      "Media: 6639.971021255613\n",
      "Mediana: 4800.0\n",
      "Code by Jônatas Trindade\n"
     ]
    }
   ],
   "execution_count": 23
  }
 ],
 "metadata": {
  "kernelspec": {
   "display_name": "Python 3",
   "language": "python",
   "name": "python3"
  },
  "language_info": {
   "codemirror_mode": {
    "name": "ipython",
    "version": 2
   },
   "file_extension": ".py",
   "mimetype": "text/x-python",
   "name": "python",
   "nbconvert_exporter": "python",
   "pygments_lexer": "ipython2",
   "version": "2.7.6"
  }
 },
 "nbformat": 4,
 "nbformat_minor": 5
}
