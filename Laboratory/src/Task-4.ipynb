{
 "cells": [
  {
   "cell_type": "code",
   "id": "initial_id",
   "metadata": {
    "collapsed": true,
    "ExecuteTime": {
     "end_time": "2024-05-02T17:29:50.066050Z",
     "start_time": "2024-05-02T17:29:50.062372Z"
    }
   },
   "source": "import pandas as pd",
   "outputs": [],
   "execution_count": 12
  },
  {
   "metadata": {
    "ExecuteTime": {
     "end_time": "2024-05-02T17:29:50.224583Z",
     "start_time": "2024-05-02T17:29:50.077239Z"
    }
   },
   "cell_type": "code",
   "source": [
    "datas = pd.read_csv(\"cars.csv\")\n",
    "\n",
    "carsByPrice = datas.loc[:, 'color']\n",
    "\n",
    "mediaColor = carsByPrice.mode()"
   ],
   "id": "4d55d4d586537556",
   "outputs": [],
   "execution_count": 13
  },
  {
   "metadata": {
    "ExecuteTime": {
     "end_time": "2024-05-02T17:29:50.229833Z",
     "start_time": "2024-05-02T17:29:50.226088Z"
    }
   },
   "cell_type": "code",
   "source": [
    "print(\"Dados calculados\")\n",
    "print(f\"Media de cor: {mediaColor.iloc[0]}\")\n",
    "print(\"Code by Jônatas Trindade\")"
   ],
   "id": "30f77a0fa6304d61",
   "outputs": [
    {
     "name": "stdout",
     "output_type": "stream",
     "text": [
      "Dados calculados\n",
      "Media de cor: black\n",
      "Code by Jônatas Trindade\n"
     ]
    }
   ],
   "execution_count": 14
  }
 ],
 "metadata": {
  "kernelspec": {
   "display_name": "Python 3",
   "language": "python",
   "name": "python3"
  },
  "language_info": {
   "codemirror_mode": {
    "name": "ipython",
    "version": 2
   },
   "file_extension": ".py",
   "mimetype": "text/x-python",
   "name": "python",
   "nbconvert_exporter": "python",
   "pygments_lexer": "ipython2",
   "version": "2.7.6"
  }
 },
 "nbformat": 4,
 "nbformat_minor": 5
}
