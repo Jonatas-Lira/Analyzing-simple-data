{
 "cells": [
  {
   "cell_type": "code",
   "id": "initial_id",
   "metadata": {
    "collapsed": true,
    "ExecuteTime": {
     "end_time": "2024-05-02T17:20:49.349723Z",
     "start_time": "2024-05-02T17:20:49.345562Z"
    }
   },
   "source": "import pandas as pd",
   "outputs": [],
   "execution_count": 8
  },
  {
   "metadata": {
    "ExecuteTime": {
     "end_time": "2024-05-02T17:20:49.508308Z",
     "start_time": "2024-05-02T17:20:49.359244Z"
    }
   },
   "cell_type": "code",
   "source": [
    "datas = pd.read_csv(\"cars.csv\")\n",
    "\n",
    "carsByPrice = datas.loc[:, 'price_usd']\n",
    "\n",
    "mediaCars = carsByPrice.mean()\n",
    "DesvioCars = carsByPrice.std()\n",
    "amplitCars = carsByPrice.max() - carsByPrice.min()"
   ],
   "id": "4a71a3ff4ce48855",
   "outputs": [],
   "execution_count": 9
  },
  {
   "metadata": {
    "ExecuteTime": {
     "end_time": "2024-05-02T17:20:49.514723Z",
     "start_time": "2024-05-02T17:20:49.509313Z"
    }
   },
   "cell_type": "code",
   "source": [
    "print(\"Dados calculados\")\n",
    "print(f\"Media: {mediaCars}\")\n",
    "print(f\"Desvio Padrão: {DesvioCars}\")\n",
    "print(f\"Aplitude: {amplitCars}\")\n",
    "print(\"Code by Jônatas Trindade\")"
   ],
   "id": "8058fd987d75bbc2",
   "outputs": [
    {
     "name": "stdout",
     "output_type": "stream",
     "text": [
      "Dados calculados\n",
      "Media: 6639.971021255613\n",
      "Desvio: 6428.1520182029035\n",
      "Aplitude: 49999.0\n",
      "Code by Jônatas Trindade\n"
     ]
    }
   ],
   "execution_count": 10
  }
 ],
 "metadata": {
  "kernelspec": {
   "display_name": "Python 3",
   "language": "python",
   "name": "python3"
  },
  "language_info": {
   "codemirror_mode": {
    "name": "ipython",
    "version": 2
   },
   "file_extension": ".py",
   "mimetype": "text/x-python",
   "name": "python",
   "nbconvert_exporter": "python",
   "pygments_lexer": "ipython2",
   "version": "2.7.6"
  }
 },
 "nbformat": 4,
 "nbformat_minor": 5
}
