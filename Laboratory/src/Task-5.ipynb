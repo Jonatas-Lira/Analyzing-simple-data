{
 "cells": [
  {
   "cell_type": "code",
   "id": "initial_id",
   "metadata": {
    "collapsed": true,
    "ExecuteTime": {
     "end_time": "2024-05-02T17:34:40.847787Z",
     "start_time": "2024-05-02T17:34:40.843865Z"
    }
   },
   "source": "import pandas as pd",
   "outputs": [],
   "execution_count": 3
  },
  {
   "metadata": {
    "ExecuteTime": {
     "end_time": "2024-05-02T17:34:41.015619Z",
     "start_time": "2024-05-02T17:34:40.853795Z"
    }
   },
   "cell_type": "code",
   "source": [
    "datas = pd.read_csv(\"cars.csv\")\n",
    "\n",
    "carsByPrice = datas.loc[:, 'price_usd']\n",
    "\n",
    "Quantil1 = carsByPrice.quantile(0.25)\n",
    "Quantil2 = carsByPrice.quantile(0.50) \n",
    "Quantil3 = carsByPrice.quantile(0.75)"
   ],
   "id": "9a9eaf84ae044fb1",
   "outputs": [],
   "execution_count": 4
  },
  {
   "metadata": {
    "ExecuteTime": {
     "end_time": "2024-05-02T17:34:41.023070Z",
     "start_time": "2024-05-02T17:34:41.017562Z"
    }
   },
   "cell_type": "code",
   "source": [
    "print(\"Dados calculados\")\n",
    "print(f\"Primeiro quantil: {Quantil1}\") \n",
    "print(f\"Segundo quantil: {Quantil2}\")\n",
    "print(f\"Terceiro quantil: {Quantil3}\")\n",
    "print(\"Code by Jônatas Trindade\")"
   ],
   "id": "ed75b24513f5a21d",
   "outputs": [
    {
     "name": "stdout",
     "output_type": "stream",
     "text": [
      "Dados calculados\n",
      "Primeiro quantil: 2100.0\n",
      "Segundo quantil: 4800.0\n",
      "Terceiro quantil: 8990.0\n",
      "Code by Jônatas Trindade\n"
     ]
    }
   ],
   "execution_count": 5
  }
 ],
 "metadata": {
  "kernelspec": {
   "display_name": "Python 3",
   "language": "python",
   "name": "python3"
  },
  "language_info": {
   "codemirror_mode": {
    "name": "ipython",
    "version": 2
   },
   "file_extension": ".py",
   "mimetype": "text/x-python",
   "name": "python",
   "nbconvert_exporter": "python",
   "pygments_lexer": "ipython2",
   "version": "2.7.6"
  }
 },
 "nbformat": 4,
 "nbformat_minor": 5
}
